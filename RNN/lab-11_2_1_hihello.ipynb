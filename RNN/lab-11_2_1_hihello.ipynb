{
 "cells": [
  {
   "cell_type": "markdown",
   "metadata": {
    "ExecuteTime": {
     "end_time": "2020-04-04T16:20:35.479926Z",
     "start_time": "2020-04-04T16:20:35.080401Z"
    }
   },
   "source": [
    "# \"Hihello\" Example\n",
    "\n",
    "- \"Hihello\" problem\n",
    "- Data setting\n",
    "    - One hot encoding\n",
    "- Cross entropy loss\n",
    "- Code run through"
   ]
  },
  {
   "cell_type": "markdown",
   "metadata": {},
   "source": [
    "### \"Hihello\" problem\n",
    "\n",
    "<img align=\"center\" width=\"800\" height=\"800\" src=\"https://github.com/DeepHaeJoong/torch_study/blob/master/RNN/RNN/image/Lab2-1.jpg?raw=true\">\n",
    "\n",
    "<img align=\"center\" width=\"800\" height=\"800\" src=\"https://github.com/DeepHaeJoong/torch_study/blob/master/RNN/RNN/image/Lab2-2.jpg?raw=true\">"
   ]
  },
  {
   "cell_type": "code",
   "execution_count": null,
   "metadata": {},
   "outputs": [],
   "source": []
  },
  {
   "cell_type": "markdown",
   "metadata": {
    "ExecuteTime": {
     "end_time": "2020-04-04T16:39:36.082202Z",
     "start_time": "2020-04-04T16:39:36.078728Z"
    }
   },
   "source": [
    "- 'h', 'i', 'h',  'e', 'l', 'l', 'o'  \n",
    "- We will predict the next character!\n",
    "- How can we represent characters in PyTorch? "
   ]
  },
  {
   "cell_type": "code",
   "execution_count": null,
   "metadata": {},
   "outputs": [],
   "source": [
    "import torch\n",
    "import torch.optim as optim\n",
    "import numpy as np"
   ]
  },
  {
   "cell_type": "code",
   "execution_count": 2,
   "metadata": {
    "ExecuteTime": {
     "end_time": "2020-04-04T16:20:35.900036Z",
     "start_time": "2020-04-04T16:20:35.892035Z"
    }
   },
   "outputs": [
    {
     "data": {
      "text/plain": [
       "<torch._C.Generator at 0x21802c94f10>"
      ]
     },
     "execution_count": 2,
     "metadata": {},
     "output_type": "execute_result"
    }
   ],
   "source": [
    "# Random seed to make results deterministic and reproducible\n",
    "torch.manual_seed(0)"
   ]
  },
  {
   "cell_type": "code",
   "execution_count": 3,
   "metadata": {
    "ExecuteTime": {
     "end_time": "2020-04-04T16:20:37.429778Z",
     "start_time": "2020-04-04T16:20:37.427775Z"
    }
   },
   "outputs": [],
   "source": [
    "sample = \" if you want you\""
   ]
  },
  {
   "cell_type": "code",
   "execution_count": 4,
   "metadata": {
    "ExecuteTime": {
     "end_time": "2020-04-04T16:20:38.432496Z",
     "start_time": "2020-04-04T16:20:38.427996Z"
    }
   },
   "outputs": [
    {
     "name": "stdout",
     "output_type": "stream",
     "text": [
      "{'i': 0, 'n': 1, ' ': 2, 'o': 3, 'y': 4, 'w': 5, 't': 6, 'u': 7, 'a': 8, 'f': 9}\n"
     ]
    }
   ],
   "source": [
    "# make dictionary\n",
    "char_set = list(set(sample))\n",
    "char_dic = {c: i for i, c in enumerate(char_set)}\n",
    "print(char_dic)"
   ]
  },
  {
   "cell_type": "code",
   "execution_count": 6,
   "metadata": {
    "ExecuteTime": {
     "end_time": "2020-04-04T16:21:17.402576Z",
     "start_time": "2020-04-04T16:21:17.400074Z"
    }
   },
   "outputs": [],
   "source": [
    "# hyper parameters\n",
    "dic_size = len(char_dic)\n",
    "hidden_size = len(char_dic)\n",
    "learning_rate = 0.1"
   ]
  },
  {
   "cell_type": "code",
   "execution_count": 15,
   "metadata": {
    "ExecuteTime": {
     "end_time": "2020-04-04T16:23:05.948732Z",
     "start_time": "2020-04-04T16:23:05.945699Z"
    }
   },
   "outputs": [],
   "source": [
    "# data setting\n",
    "sample_idx = [char_dic[c] for c in sample]\n",
    "x_data = [sample_idx[:-1]]\n",
    "x_one_hot = [np.eye(dic_size)[x] for x in x_data]\n",
    "y_data = [sample_idx[1:]]"
   ]
  },
  {
   "cell_type": "code",
   "execution_count": 17,
   "metadata": {
    "ExecuteTime": {
     "end_time": "2020-04-04T16:23:31.374333Z",
     "start_time": "2020-04-04T16:23:31.370833Z"
    }
   },
   "outputs": [
    {
     "data": {
      "text/plain": [
       "[[2, 0, 9, 2, 4, 3, 7, 2, 5, 8, 1, 6, 2, 4, 3]]"
      ]
     },
     "execution_count": 17,
     "metadata": {},
     "output_type": "execute_result"
    }
   ],
   "source": [
    "x_data"
   ]
  },
  {
   "cell_type": "code",
   "execution_count": 22,
   "metadata": {
    "ExecuteTime": {
     "end_time": "2020-04-04T16:28:01.320701Z",
     "start_time": "2020-04-04T16:28:01.316700Z"
    }
   },
   "outputs": [
    {
     "data": {
      "text/plain": [
       "[array([[0., 0., 1., 0., 0., 0., 0., 0., 0., 0.],\n",
       "        [1., 0., 0., 0., 0., 0., 0., 0., 0., 0.],\n",
       "        [0., 0., 0., 0., 0., 0., 0., 0., 0., 1.],\n",
       "        [0., 0., 1., 0., 0., 0., 0., 0., 0., 0.],\n",
       "        [0., 0., 0., 0., 1., 0., 0., 0., 0., 0.],\n",
       "        [0., 0., 0., 1., 0., 0., 0., 0., 0., 0.],\n",
       "        [0., 0., 0., 0., 0., 0., 0., 1., 0., 0.],\n",
       "        [0., 0., 1., 0., 0., 0., 0., 0., 0., 0.],\n",
       "        [0., 0., 0., 0., 0., 1., 0., 0., 0., 0.],\n",
       "        [0., 0., 0., 0., 0., 0., 0., 0., 1., 0.],\n",
       "        [0., 1., 0., 0., 0., 0., 0., 0., 0., 0.],\n",
       "        [0., 0., 0., 0., 0., 0., 1., 0., 0., 0.],\n",
       "        [0., 0., 1., 0., 0., 0., 0., 0., 0., 0.],\n",
       "        [0., 0., 0., 0., 1., 0., 0., 0., 0., 0.],\n",
       "        [0., 0., 0., 1., 0., 0., 0., 0., 0., 0.]])]"
      ]
     },
     "execution_count": 22,
     "metadata": {},
     "output_type": "execute_result"
    }
   ],
   "source": [
    "[np.eye(dic_size)[x] for x in x_data]"
   ]
  },
  {
   "cell_type": "code",
   "execution_count": 23,
   "metadata": {
    "ExecuteTime": {
     "end_time": "2020-04-04T16:28:04.254043Z",
     "start_time": "2020-04-04T16:28:04.251040Z"
    }
   },
   "outputs": [
    {
     "data": {
      "text/plain": [
       "[[0, 9, 2, 4, 3, 7, 2, 5, 8, 1, 6, 2, 4, 3, 7]]"
      ]
     },
     "execution_count": 23,
     "metadata": {},
     "output_type": "execute_result"
    }
   ],
   "source": [
    "[sample_idx[1:]]"
   ]
  },
  {
   "cell_type": "code",
   "execution_count": 18,
   "metadata": {
    "ExecuteTime": {
     "end_time": "2020-04-04T16:26:55.149640Z",
     "start_time": "2020-04-04T16:26:55.146640Z"
    }
   },
   "outputs": [],
   "source": [
    "# transform as torch tensor variable\n",
    "X = torch.FloatTensor(x_one_hot)\n",
    "Y = torch.LongTensor(y_data)"
   ]
  },
  {
   "cell_type": "code",
   "execution_count": 19,
   "metadata": {
    "ExecuteTime": {
     "end_time": "2020-04-04T16:27:09.236023Z",
     "start_time": "2020-04-04T16:27:09.233023Z"
    }
   },
   "outputs": [],
   "source": [
    "# declare RNN\n",
    "rnn = torch.nn.RNN(dic_size, hidden_size, batch_first=True)"
   ]
  },
  {
   "cell_type": "code",
   "execution_count": 20,
   "metadata": {
    "ExecuteTime": {
     "end_time": "2020-04-04T16:27:10.081149Z",
     "start_time": "2020-04-04T16:27:10.078649Z"
    }
   },
   "outputs": [],
   "source": [
    "# loss & optimizer setting\n",
    "criterion = torch.nn.CrossEntropyLoss()\n",
    "optimizer = optim.Adam(rnn.parameters(), learning_rate)"
   ]
  },
  {
   "cell_type": "code",
   "execution_count": 21,
   "metadata": {
    "ExecuteTime": {
     "end_time": "2020-04-04T16:27:11.344312Z",
     "start_time": "2020-04-04T16:27:10.733813Z"
    },
    "scrolled": false
   },
   "outputs": [
    {
     "name": "stdout",
     "output_type": "stream",
     "text": [
      "0 loss:  2.3204243183135986 prediction:  [[8 5 0 8 7 7 8 5 7 7 5 7 8 7 7]] true Y:  [[0, 9, 2, 4, 3, 7, 2, 5, 8, 1, 6, 2, 4, 3, 7]] prediction str:  awiauuawuuwuauu\n",
      "1 loss:  1.9426510334014893 prediction:  [[8 3 6 4 8 7 6 5 8 7 3 2 4 5 7]] true Y:  [[0, 9, 2, 4, 3, 7, 2, 5, 8, 1, 6, 2, 4, 3, 7]] prediction str:  aotyautwauo ywu\n",
      "2 loss:  1.7001302242279053 prediction:  [[4 3 2 4 3 7 4 5 8 1 3 2 4 3 7]] true Y:  [[0, 9, 2, 4, 3, 7, 2, 5, 8, 1, 6, 2, 4, 3, 7]] prediction str:  yo youywano you\n",
      "3 loss:  1.5475265979766846 prediction:  [[4 3 2 4 3 7 2 5 8 1 2 2 4 3 7]] true Y:  [[0, 9, 2, 4, 3, 7, 2, 5, 8, 1, 6, 2, 4, 3, 7]] prediction str:  yo you wan  you\n",
      "4 loss:  1.434622883796692 prediction:  [[4 3 2 4 3 7 2 5 8 7 6 2 4 3 7]] true Y:  [[0, 9, 2, 4, 3, 7, 2, 5, 8, 1, 6, 2, 4, 3, 7]] prediction str:  yo you waut you\n",
      "5 loss:  1.3445229530334473 prediction:  [[4 3 2 4 3 7 2 5 8 7 6 2 4 3 7]] true Y:  [[0, 9, 2, 4, 3, 7, 2, 5, 8, 1, 6, 2, 4, 3, 7]] prediction str:  yo you waut you\n",
      "6 loss:  1.2751418352127075 prediction:  [[4 9 2 4 3 7 2 5 8 1 6 2 4 3 7]] true Y:  [[0, 9, 2, 4, 3, 7, 2, 5, 8, 1, 6, 2, 4, 3, 7]] prediction str:  yf you want you\n",
      "7 loss:  1.2085413932800293 prediction:  [[4 9 2 4 3 7 2 5 8 1 6 2 4 3 7]] true Y:  [[0, 9, 2, 4, 3, 7, 2, 5, 8, 1, 6, 2, 4, 3, 7]] prediction str:  yf you want you\n",
      "8 loss:  1.1523305177688599 prediction:  [[0 9 2 4 3 7 2 5 8 1 6 2 4 3 2]] true Y:  [[0, 9, 2, 4, 3, 7, 2, 5, 8, 1, 6, 2, 4, 3, 7]] prediction str:  if you want yo \n",
      "9 loss:  1.1037977933883667 prediction:  [[0 9 2 4 3 7 2 5 8 1 6 2 4 3 7]] true Y:  [[0, 9, 2, 4, 3, 7, 2, 5, 8, 1, 6, 2, 4, 3, 7]] prediction str:  if you want you\n",
      "10 loss:  1.0643936395645142 prediction:  [[0 9 2 4 3 7 2 5 8 1 6 2 4 3 7]] true Y:  [[0, 9, 2, 4, 3, 7, 2, 5, 8, 1, 6, 2, 4, 3, 7]] prediction str:  if you want you\n",
      "11 loss:  1.0219208002090454 prediction:  [[0 9 2 4 3 7 2 5 8 1 6 2 4 3 7]] true Y:  [[0, 9, 2, 4, 3, 7, 2, 5, 8, 1, 6, 2, 4, 3, 7]] prediction str:  if you want you\n",
      "12 loss:  0.9862605929374695 prediction:  [[0 9 2 4 3 7 2 5 8 1 6 2 4 3 7]] true Y:  [[0, 9, 2, 4, 3, 7, 2, 5, 8, 1, 6, 2, 4, 3, 7]] prediction str:  if you want you\n",
      "13 loss:  0.9578184485435486 prediction:  [[0 9 2 4 3 7 2 5 8 1 6 2 4 3 7]] true Y:  [[0, 9, 2, 4, 3, 7, 2, 5, 8, 1, 6, 2, 4, 3, 7]] prediction str:  if you want you\n",
      "14 loss:  0.9368399977684021 prediction:  [[0 9 2 4 3 7 2 5 8 1 6 2 4 3 7]] true Y:  [[0, 9, 2, 4, 3, 7, 2, 5, 8, 1, 6, 2, 4, 3, 7]] prediction str:  if you want you\n",
      "15 loss:  0.9228100180625916 prediction:  [[0 9 2 4 3 7 2 5 8 1 6 2 4 3 7]] true Y:  [[0, 9, 2, 4, 3, 7, 2, 5, 8, 1, 6, 2, 4, 3, 7]] prediction str:  if you want you\n",
      "16 loss:  0.9113152027130127 prediction:  [[0 9 2 4 3 7 2 5 8 1 6 2 4 3 7]] true Y:  [[0, 9, 2, 4, 3, 7, 2, 5, 8, 1, 6, 2, 4, 3, 7]] prediction str:  if you want you\n",
      "17 loss:  0.9011462926864624 prediction:  [[0 9 2 4 3 7 2 5 8 1 6 2 4 3 7]] true Y:  [[0, 9, 2, 4, 3, 7, 2, 5, 8, 1, 6, 2, 4, 3, 7]] prediction str:  if you want you\n",
      "18 loss:  0.8903582692146301 prediction:  [[0 9 2 4 3 7 2 5 8 1 6 2 4 3 7]] true Y:  [[0, 9, 2, 4, 3, 7, 2, 5, 8, 1, 6, 2, 4, 3, 7]] prediction str:  if you want you\n",
      "19 loss:  0.8791704773902893 prediction:  [[0 9 2 4 3 7 2 5 8 1 6 2 4 3 7]] true Y:  [[0, 9, 2, 4, 3, 7, 2, 5, 8, 1, 6, 2, 4, 3, 7]] prediction str:  if you want you\n",
      "20 loss:  0.8700929284095764 prediction:  [[0 9 2 4 3 7 2 5 8 1 6 2 4 3 7]] true Y:  [[0, 9, 2, 4, 3, 7, 2, 5, 8, 1, 6, 2, 4, 3, 7]] prediction str:  if you want you\n",
      "21 loss:  0.8635421991348267 prediction:  [[0 9 2 4 3 7 2 5 8 1 6 2 4 3 7]] true Y:  [[0, 9, 2, 4, 3, 7, 2, 5, 8, 1, 6, 2, 4, 3, 7]] prediction str:  if you want you\n",
      "22 loss:  0.8582077622413635 prediction:  [[0 9 2 4 3 7 2 5 8 1 6 2 4 3 7]] true Y:  [[0, 9, 2, 4, 3, 7, 2, 5, 8, 1, 6, 2, 4, 3, 7]] prediction str:  if you want you\n",
      "23 loss:  0.8524237275123596 prediction:  [[0 9 2 4 3 7 2 5 8 1 6 2 4 3 7]] true Y:  [[0, 9, 2, 4, 3, 7, 2, 5, 8, 1, 6, 2, 4, 3, 7]] prediction str:  if you want you\n",
      "24 loss:  0.8471832871437073 prediction:  [[0 9 2 4 3 7 2 5 8 1 6 2 4 3 7]] true Y:  [[0, 9, 2, 4, 3, 7, 2, 5, 8, 1, 6, 2, 4, 3, 7]] prediction str:  if you want you\n",
      "25 loss:  0.843554675579071 prediction:  [[0 9 2 4 3 7 2 5 8 1 6 2 4 3 7]] true Y:  [[0, 9, 2, 4, 3, 7, 2, 5, 8, 1, 6, 2, 4, 3, 7]] prediction str:  if you want you\n",
      "26 loss:  0.8409367203712463 prediction:  [[0 9 2 4 3 7 2 5 8 1 6 2 4 3 7]] true Y:  [[0, 9, 2, 4, 3, 7, 2, 5, 8, 1, 6, 2, 4, 3, 7]] prediction str:  if you want you\n",
      "27 loss:  0.8373186588287354 prediction:  [[0 9 2 4 3 7 2 5 8 1 6 2 4 3 7]] true Y:  [[0, 9, 2, 4, 3, 7, 2, 5, 8, 1, 6, 2, 4, 3, 7]] prediction str:  if you want you\n",
      "28 loss:  0.8340057134628296 prediction:  [[0 9 2 4 3 7 2 5 8 1 6 2 4 3 7]] true Y:  [[0, 9, 2, 4, 3, 7, 2, 5, 8, 1, 6, 2, 4, 3, 7]] prediction str:  if you want you\n",
      "29 loss:  0.8319884538650513 prediction:  [[0 9 2 4 3 7 2 5 8 1 6 2 4 3 7]] true Y:  [[0, 9, 2, 4, 3, 7, 2, 5, 8, 1, 6, 2, 4, 3, 7]] prediction str:  if you want you\n",
      "30 loss:  0.8302230834960938 prediction:  [[0 9 2 4 3 7 2 5 8 1 6 2 4 3 7]] true Y:  [[0, 9, 2, 4, 3, 7, 2, 5, 8, 1, 6, 2, 4, 3, 7]] prediction str:  if you want you\n",
      "31 loss:  0.8282623291015625 prediction:  [[0 9 2 4 3 7 2 5 8 1 6 2 4 3 7]] true Y:  [[0, 9, 2, 4, 3, 7, 2, 5, 8, 1, 6, 2, 4, 3, 7]] prediction str:  if you want you\n",
      "32 loss:  0.8261948227882385 prediction:  [[0 9 2 4 3 7 2 5 8 1 6 2 4 3 7]] true Y:  [[0, 9, 2, 4, 3, 7, 2, 5, 8, 1, 6, 2, 4, 3, 7]] prediction str:  if you want you\n",
      "33 loss:  0.8245140910148621 prediction:  [[0 9 2 4 3 7 2 5 8 1 6 2 4 3 7]] true Y:  [[0, 9, 2, 4, 3, 7, 2, 5, 8, 1, 6, 2, 4, 3, 7]] prediction str:  if you want you\n",
      "34 loss:  0.8236295580863953 prediction:  [[0 9 2 4 3 7 2 5 8 1 6 2 4 3 7]] true Y:  [[0, 9, 2, 4, 3, 7, 2, 5, 8, 1, 6, 2, 4, 3, 7]] prediction str:  if you want you\n",
      "35 loss:  0.8224422335624695 prediction:  [[0 9 2 4 3 7 2 5 8 1 6 2 4 3 7]] true Y:  [[0, 9, 2, 4, 3, 7, 2, 5, 8, 1, 6, 2, 4, 3, 7]] prediction str:  if you want you\n",
      "36 loss:  0.8212317824363708 prediction:  [[0 9 2 4 3 7 2 5 8 1 6 2 4 3 7]] true Y:  [[0, 9, 2, 4, 3, 7, 2, 5, 8, 1, 6, 2, 4, 3, 7]] prediction str:  if you want you\n",
      "37 loss:  0.820659339427948 prediction:  [[0 9 2 4 3 7 2 5 8 1 6 2 4 3 7]] true Y:  [[0, 9, 2, 4, 3, 7, 2, 5, 8, 1, 6, 2, 4, 3, 7]] prediction str:  if you want you\n",
      "38 loss:  0.8201009035110474 prediction:  [[0 9 2 4 3 7 2 5 8 1 6 2 4 3 7]] true Y:  [[0, 9, 2, 4, 3, 7, 2, 5, 8, 1, 6, 2, 4, 3, 7]] prediction str:  if you want you\n",
      "39 loss:  0.8192688822746277 prediction:  [[0 9 2 4 3 7 2 5 8 1 6 2 4 3 7]] true Y:  [[0, 9, 2, 4, 3, 7, 2, 5, 8, 1, 6, 2, 4, 3, 7]] prediction str:  if you want you\n",
      "40 loss:  0.8185127377510071 prediction:  [[0 9 2 4 3 7 2 5 8 1 6 2 4 3 7]] true Y:  [[0, 9, 2, 4, 3, 7, 2, 5, 8, 1, 6, 2, 4, 3, 7]] prediction str:  if you want you\n",
      "41 loss:  0.8181585669517517 prediction:  [[0 9 2 4 3 7 2 5 8 1 6 2 4 3 7]] true Y:  [[0, 9, 2, 4, 3, 7, 2, 5, 8, 1, 6, 2, 4, 3, 7]] prediction str:  if you want you\n",
      "42 loss:  0.8175368905067444 prediction:  [[0 9 2 4 3 7 2 5 8 1 6 2 4 3 7]] true Y:  [[0, 9, 2, 4, 3, 7, 2, 5, 8, 1, 6, 2, 4, 3, 7]] prediction str:  if you want you\n",
      "43 loss:  0.816908597946167 prediction:  [[0 9 2 4 3 7 2 5 8 1 6 2 4 3 7]] true Y:  [[0, 9, 2, 4, 3, 7, 2, 5, 8, 1, 6, 2, 4, 3, 7]] prediction str:  if you want you\n",
      "44 loss:  0.8166114687919617 prediction:  [[0 9 2 4 3 7 2 5 8 1 6 2 4 3 7]] true Y:  [[0, 9, 2, 4, 3, 7, 2, 5, 8, 1, 6, 2, 4, 3, 7]] prediction str:  if you want you\n",
      "45 loss:  0.8162446618080139 prediction:  [[0 9 2 4 3 7 2 5 8 1 6 2 4 3 7]] true Y:  [[0, 9, 2, 4, 3, 7, 2, 5, 8, 1, 6, 2, 4, 3, 7]] prediction str:  if you want you\n",
      "46 loss:  0.8157762885093689 prediction:  [[0 9 2 4 3 7 2 5 8 1 6 2 4 3 7]] true Y:  [[0, 9, 2, 4, 3, 7, 2, 5, 8, 1, 6, 2, 4, 3, 7]] prediction str:  if you want you\n",
      "47 loss:  0.8155089020729065 prediction:  [[0 9 2 4 3 7 2 5 8 1 6 2 4 3 7]] true Y:  [[0, 9, 2, 4, 3, 7, 2, 5, 8, 1, 6, 2, 4, 3, 7]] prediction str:  if you want you\n",
      "48 loss:  0.8152618408203125 prediction:  [[0 9 2 4 3 7 2 5 8 1 6 2 4 3 7]] true Y:  [[0, 9, 2, 4, 3, 7, 2, 5, 8, 1, 6, 2, 4, 3, 7]] prediction str:  if you want you\n"
     ]
    },
    {
     "name": "stdout",
     "output_type": "stream",
     "text": [
      "49 loss:  0.8148383498191833 prediction:  [[0 9 2 4 3 7 2 5 8 1 6 2 4 3 7]] true Y:  [[0, 9, 2, 4, 3, 7, 2, 5, 8, 1, 6, 2, 4, 3, 7]] prediction str:  if you want you\n"
     ]
    }
   ],
   "source": [
    "# start training\n",
    "for i in range(50):\n",
    "    optimizer.zero_grad()\n",
    "    outputs, _status = rnn(X)\n",
    "    loss = criterion(outputs.view(-1, dic_size), Y.view(-1))\n",
    "    loss.backward()\n",
    "    optimizer.step()\n",
    "\n",
    "    result = outputs.data.numpy().argmax(axis=2)\n",
    "    result_str = ''.join([char_set[c] for c in np.squeeze(result)])\n",
    "    print(i, \"loss: \", loss.item(), \"prediction: \", result, \"true Y: \", y_data, \"prediction str: \", result_str)"
   ]
  }
 ],
 "metadata": {
  "hide_input": false,
  "kernelspec": {
   "display_name": "Python 3",
   "language": "python",
   "name": "python3"
  },
  "language_info": {
   "codemirror_mode": {
    "name": "ipython",
    "version": 3
   },
   "file_extension": ".py",
   "mimetype": "text/x-python",
   "name": "python",
   "nbconvert_exporter": "python",
   "pygments_lexer": "ipython3",
   "version": "3.7.1"
  },
  "toc": {
   "base_numbering": 1,
   "nav_menu": {},
   "number_sections": true,
   "sideBar": true,
   "skip_h1_title": false,
   "title_cell": "Table of Contents",
   "title_sidebar": "Contents",
   "toc_cell": false,
   "toc_position": {},
   "toc_section_display": true,
   "toc_window_display": false
  }
 },
 "nbformat": 4,
 "nbformat_minor": 2
}
