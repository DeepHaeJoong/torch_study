{
 "cells": [
  {
   "cell_type": "markdown",
   "metadata": {},
   "source": [
    "<img align=\"center\" width=\"800\" height=\"800\" src=\"https://github.com/DeepHaeJoong/torch_study/blob/master/RNN/RNN/image/Lab1-1.jpg?raw=true.jpg?raw=true\">\n",
    "\n",
    "<img align=\"center\" width=\"800\" height=\"800\" src=\"https://github.com/DeepHaeJoong/torch_study/blob/master/RNN/RNN/image/Lab1-2.jpg?raw=true.jpg?raw=true\">\n",
    "\n",
    "<img align=\"center\" width=\"800\" height=\"800\" src=\"https://github.com/DeepHaeJoong/torch_study/blob/master/RNN/RNN/image/Lab1-3.jpg?raw=true.jpg?raw=true\">\n",
    "\n",
    "<img align=\"center\" width=\"800\" height=\"800\" src=\"https://github.com/DeepHaeJoong/torch_study/blob/master/RNN/RNN/image/Lab1-4.jpg?raw=true.jpg?raw=true\">\n",
    "\n",
    "<img align=\"center\" width=\"800\" height=\"800\" src=\"https://github.com/DeepHaeJoong/torch_study/blob/master/RNN/RNN/image/Lab1-5.jpg?raw=true.jpg?raw=true\">\n",
    "\n",
    "<img align=\"center\" width=\"800\" height=\"800\" src=\"https://github.com/DeepHaeJoong/torch_study/blob/master/RNN/RNN/image/Lab1-6.jpg?raw=true.jpg?raw=true\">"
   ]
  },
  {
   "cell_type": "code",
   "execution_count": 29,
   "metadata": {
    "ExecuteTime": {
     "end_time": "2020-04-04T15:34:45.361576Z",
     "start_time": "2020-04-04T15:34:45.359075Z"
    }
   },
   "outputs": [],
   "source": [
    "import torch\n",
    "import numpy as np"
   ]
  },
  {
   "cell_type": "code",
   "execution_count": 30,
   "metadata": {
    "ExecuteTime": {
     "end_time": "2020-04-04T15:34:45.370575Z",
     "start_time": "2020-04-04T15:34:45.363075Z"
    }
   },
   "outputs": [
    {
     "data": {
      "text/plain": [
       "<torch._C.Generator at 0x18c2a934f10>"
      ]
     },
     "execution_count": 30,
     "metadata": {},
     "output_type": "execute_result"
    }
   ],
   "source": [
    "# Random seed to make results deterministic and reproducible\n",
    "torch.manual_seed(0)"
   ]
  },
  {
   "cell_type": "code",
   "execution_count": 31,
   "metadata": {
    "ExecuteTime": {
     "end_time": "2020-04-04T15:34:45.376075Z",
     "start_time": "2020-04-04T15:34:45.371575Z"
    }
   },
   "outputs": [],
   "source": [
    "# declare dimension\n",
    "input_size = 4\n",
    "hidden_size = 2"
   ]
  },
  {
   "cell_type": "code",
   "execution_count": 32,
   "metadata": {
    "ExecuteTime": {
     "end_time": "2020-04-04T15:34:45.383635Z",
     "start_time": "2020-04-04T15:34:45.377575Z"
    }
   },
   "outputs": [],
   "source": [
    "# singleton example\n",
    "# shape : (1, 1, 4)\n",
    "# input_data_np = np.array([[[1, 0, 0, 0]]])\n",
    "\n",
    "# sequential example\n",
    "# shape : (3, 5, 4)\n",
    "h = [1, 0, 0, 0]\n",
    "e = [0, 1, 0, 0]\n",
    "l = [0, 0, 1, 0]\n",
    "o = [0, 0, 0, 1]\n",
    "input_data_np = np.array([[h, e, l, l, o], [e, o, l, l, l], [l, l, e, e, l]], dtype=np.float32)"
   ]
  },
  {
   "cell_type": "code",
   "execution_count": 33,
   "metadata": {
    "ExecuteTime": {
     "end_time": "2020-04-04T15:34:45.390076Z",
     "start_time": "2020-04-04T15:34:45.385106Z"
    }
   },
   "outputs": [],
   "source": [
    "# transform as torch tensor\n",
    "input_data = torch.Tensor(input_data_np)"
   ]
  },
  {
   "cell_type": "code",
   "execution_count": 34,
   "metadata": {
    "ExecuteTime": {
     "end_time": "2020-04-04T15:34:45.396609Z",
     "start_time": "2020-04-04T15:34:45.391077Z"
    }
   },
   "outputs": [],
   "source": [
    "# declare RNN\n",
    "rnn = torch.nn.RNN(input_size, hidden_size)"
   ]
  },
  {
   "cell_type": "code",
   "execution_count": 35,
   "metadata": {
    "ExecuteTime": {
     "end_time": "2020-04-04T15:34:45.406075Z",
     "start_time": "2020-04-04T15:34:45.397605Z"
    }
   },
   "outputs": [
    {
     "name": "stdout",
     "output_type": "stream",
     "text": [
      "tensor([[[-0.7497, -0.6135],\n",
      "         [-0.5282, -0.2473],\n",
      "         [-0.9136, -0.4269],\n",
      "         [-0.9136, -0.4269],\n",
      "         [-0.9028,  0.1180]],\n",
      "\n",
      "        [[-0.5753, -0.0070],\n",
      "         [-0.9052,  0.2597],\n",
      "         [-0.9173, -0.1989],\n",
      "         [-0.9173, -0.1989],\n",
      "         [-0.8996, -0.2725]],\n",
      "\n",
      "        [[-0.9077, -0.3205],\n",
      "         [-0.8944, -0.2902],\n",
      "         [-0.5134, -0.0288],\n",
      "         [-0.5134, -0.0288],\n",
      "         [-0.9127, -0.2222]]], grad_fn=<StackBackward>)\n",
      "torch.Size([3, 5, 2])\n"
     ]
    }
   ],
   "source": [
    "# check output\n",
    "outputs, _status = rnn(input_data)\n",
    "print(outputs)\n",
    "print(outputs.size())"
   ]
  }
 ],
 "metadata": {
  "hide_input": false,
  "kernelspec": {
   "display_name": "Python 3",
   "language": "python",
   "name": "python3"
  },
  "language_info": {
   "codemirror_mode": {
    "name": "ipython",
    "version": 3
   },
   "file_extension": ".py",
   "mimetype": "text/x-python",
   "name": "python",
   "nbconvert_exporter": "python",
   "pygments_lexer": "ipython3",
   "version": "3.7.1"
  },
  "toc": {
   "base_numbering": 1,
   "nav_menu": {},
   "number_sections": true,
   "sideBar": true,
   "skip_h1_title": false,
   "title_cell": "Table of Contents",
   "title_sidebar": "Contents",
   "toc_cell": false,
   "toc_position": {},
   "toc_section_display": true,
   "toc_window_display": false
  }
 },
 "nbformat": 4,
 "nbformat_minor": 2
}
