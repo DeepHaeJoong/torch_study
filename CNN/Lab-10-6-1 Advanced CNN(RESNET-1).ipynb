{
 "cells": [
  {
   "cell_type": "markdown",
   "metadata": {},
   "source": [
    "# ResNet [He et al., 2015]\n",
    "\n",
    "**ILSVRC 2015 winner (3.6% top 5 error)**\n",
    "\n",
    "- AlexNet, 8 layers\n",
    "- VGG, 19 layers\n",
    "- ResMet, **153 layers**"
   ]
  },
  {
   "cell_type": "markdown",
   "metadata": {},
   "source": [
    "**Q1) layer가 기존 model보다 훨씬 깊다. 과연 학습이 잘 진행될 수 있을까?**\n",
    "\n",
    "**A1) 아래 그림 참고**\n",
    "\n",
    "<img align=\"center\" width=\"300\" height=\"300\" src=\"https://github.com/DeepHaeJoong/torch_stury/blob/master/CNN/image/Lab-10-6-1.jpg?raw=true\">\n",
    "\n",
    "<img align=\"center\" width=\"400\" height=\"400\" src=\"https://github.com/DeepHaeJoong/torch_stury/blob/master/CNN/image/Lab-10-6-2.jpg?raw=true\">"
   ]
  },
  {
   "cell_type": "markdown",
   "metadata": {},
   "source": [
    "##  A practical design of going deeper**"
   ]
  },
  {
   "cell_type": "markdown",
   "metadata": {},
   "source": [
    "- **BasicBlock**\n",
    "- **bottlenect**"
   ]
  },
  {
   "cell_type": "markdown",
   "metadata": {},
   "source": [
    "<img align=\"center\" width=\"500\" height=\"500\" src=\"https://github.com/DeepHaeJoong/torch_stury/blob/master/CNN/image/Lab-10-6-3.jpg?raw=true\">"
   ]
  },
  {
   "cell_type": "markdown",
   "metadata": {},
   "source": []
  },
  {
   "cell_type": "markdown",
   "metadata": {},
   "source": [
    "# torchvision.models.resnet"
   ]
  },
  {
   "cell_type": "markdown",
   "metadata": {},
   "source": [
    "- resnet(18, 34, 50, 101, 152)를 만들 수 있도록 되어있음\n",
    "- 3 x 224 x 224 입력을 기준으로 만들도록 되어 있음\n",
    "- input size가 다른 경우 ResNet를 적용하려면 어떻게 해야할까?"
   ]
  },
  {
   "cell_type": "markdown",
   "metadata": {},
   "source": [
    "# 직접 구현해보기"
   ]
  },
  {
   "cell_type": "code",
   "execution_count": null,
   "metadata": {},
   "outputs": [],
   "source": []
  }
 ],
 "metadata": {
  "hide_input": false,
  "kernelspec": {
   "display_name": "Python 3",
   "language": "python",
   "name": "python3"
  },
  "language_info": {
   "codemirror_mode": {
    "name": "ipython",
    "version": 3
   },
   "file_extension": ".py",
   "mimetype": "text/x-python",
   "name": "python",
   "nbconvert_exporter": "python",
   "pygments_lexer": "ipython3",
   "version": "3.7.1"
  },
  "toc": {
   "base_numbering": 1,
   "nav_menu": {},
   "number_sections": true,
   "sideBar": true,
   "skip_h1_title": false,
   "title_cell": "Table of Contents",
   "title_sidebar": "Contents",
   "toc_cell": false,
   "toc_position": {},
   "toc_section_display": true,
   "toc_window_display": false
  }
 },
 "nbformat": 4,
 "nbformat_minor": 2
}
