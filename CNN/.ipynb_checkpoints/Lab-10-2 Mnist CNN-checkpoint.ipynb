{
 "cells": [
  {
   "cell_type": "markdown",
   "metadata": {},
   "source": [
    "# Mnist CNN"
   ]
  },
  {
   "cell_type": "markdown",
   "metadata": {},
   "source": [
    "## 학습 단계(code 기준)\n",
    "\n",
    "1. 라이브러리 가져오고 (torch, torchvision, matplotlib 같은것들)\n",
    "2. GPU 사용 설정 하고 random value를 위한 seed 설정!\n",
    "3. 학습에 사용되는 parameter 설정!(learning_rate, training_epochs, batch_size, etc)\n",
    "4. 데이터셋을 가져오고 (학습에 쓰기 편하게) loader 만들기\n",
    "5. 학습 모델 만들기( class CNN(torch.nn.Module) )\n",
    "6. Loss function (Criterion)을 선택하고 최적화 도구 선택(optimizer)\n",
    "7. 모델 학습 및 loss check(Criterion의 output)\n",
    "8. 학습된 모델의 성능을 확인한다."
   ]
  },
  {
   "cell_type": "code",
   "execution_count": 114,
   "metadata": {
    "ExecuteTime": {
     "end_time": "2020-02-22T07:51:01.691052Z",
     "start_time": "2020-02-22T07:51:01.688552Z"
    }
   },
   "outputs": [],
   "source": [
    "import torch\n",
    "import torch.nn as nn"
   ]
  },
  {
   "cell_type": "code",
   "execution_count": 115,
   "metadata": {
    "ExecuteTime": {
     "end_time": "2020-02-22T07:51:02.059075Z",
     "start_time": "2020-02-22T07:51:02.043576Z"
    }
   },
   "outputs": [
    {
     "name": "stdout",
     "output_type": "stream",
     "text": [
      "inputs shape : torch.Size([1, 1, 28, 28])\n",
      "----Layer 1 output-----\n",
      "Layer 1 out shpae : torch.Size([1, 32, 14, 14])\n",
      "----Layer 2 output-----\n",
      "Layer 2 out shpae : torch.Size([1, 64, 7, 7])\n",
      "out shpae : torch.Size([1, 3136])\n",
      "fc_out shpae : torch.Size([1, 10])\n"
     ]
    }
   ],
   "source": [
    "inputs = torch.Tensor(1,1,28,28)\n",
    "print(\"inputs shape : {}\".format(inputs.shape))\n",
    "\n",
    "conv1 = nn.Conv2d(1,32,kernel_size=3,stride=1,padding=1)\n",
    "max_pooling1 = nn.MaxPool2d(kernel_size=2,stride=2)\n",
    "\n",
    "\n",
    "conv2 = nn.Conv2d(32,64,kernel_size=3,stride=1,padding=1)\n",
    "max_pooling2 = nn.MaxPool2d(kernel_size=2,stride=2)\n",
    "\n",
    "print('----Layer 1 output-----')\n",
    "out = conv1(inputs)\n",
    "out = max_pooling1(out)\n",
    "print(\"Layer 1 out shpae : {}\".format(out.shape))\n",
    "\n",
    "\n",
    "print('----Layer 2 output-----')\n",
    "out = conv2(out)\n",
    "out = max_pooling2(out)\n",
    "print(\"Layer 2 out shpae : {}\".format(out.shape))\n",
    "\n",
    "\n",
    "out = out.view(out.size(0),-1)\n",
    "print(\"out shpae : {}\".format(out.shape))\n",
    "\n",
    "fc = nn.Linear(3136, 10)\n",
    "out = fc(out)\n",
    "print(\"fc_out shpae : {}\".format(out.shape))"
   ]
  },
  {
   "cell_type": "code",
   "execution_count": 116,
   "metadata": {
    "ExecuteTime": {
     "end_time": "2020-02-22T07:51:02.939353Z",
     "start_time": "2020-02-22T07:51:02.936354Z"
    }
   },
   "outputs": [],
   "source": [
    "import torch\n",
    "import torch.nn as nn\n",
    "import torchvision.datasets as dsets\n",
    "import torchvision.transforms as transforms\n",
    "\n",
    "import torch.nn.init"
   ]
  },
  {
   "cell_type": "code",
   "execution_count": 42,
   "metadata": {
    "ExecuteTime": {
     "end_time": "2020-02-22T07:06:39.359094Z",
     "start_time": "2020-02-22T07:06:39.351594Z"
    }
   },
   "outputs": [],
   "source": [
    "device = \"cuda\" if torch.cuda.is_available() else \"cpu\"\n",
    "\n",
    "torch.manual_seed(777)\n",
    "if device == \"cuda\":\n",
    "    torch.cuda.manual_seed_all(777)"
   ]
  },
  {
   "cell_type": "code",
   "execution_count": 117,
   "metadata": {
    "ExecuteTime": {
     "end_time": "2020-02-22T07:51:05.237517Z",
     "start_time": "2020-02-22T07:51:05.234546Z"
    }
   },
   "outputs": [
    {
     "name": "stdout",
     "output_type": "stream",
     "text": [
      "True\n"
     ]
    }
   ],
   "source": [
    "print(torch.cuda.is_available())"
   ]
  },
  {
   "cell_type": "code",
   "execution_count": 118,
   "metadata": {
    "ExecuteTime": {
     "end_time": "2020-02-22T07:51:05.647398Z",
     "start_time": "2020-02-22T07:51:05.644897Z"
    }
   },
   "outputs": [],
   "source": [
    "# parameter\n",
    "learning_rate = 0.001\n",
    "training_epochs = 15\n",
    "batch_size = 100"
   ]
  },
  {
   "cell_type": "code",
   "execution_count": 119,
   "metadata": {
    "ExecuteTime": {
     "end_time": "2020-02-22T07:51:06.782295Z",
     "start_time": "2020-02-22T07:51:06.754768Z"
    }
   },
   "outputs": [],
   "source": [
    "# Mnist dataset\n",
    "mnist_train = dsets.MNIST(root='MNIST_data/',\n",
    "                          train= True,\n",
    "                          transform=transforms.ToTensor(),\n",
    "                          download=True)\n",
    "\n",
    "mnist_test = dsets.MNIST(root='MNIST_data/',\n",
    "                          train= False,\n",
    "                          transform=transforms.ToTensor(),\n",
    "                          download=True)"
   ]
  },
  {
   "cell_type": "code",
   "execution_count": 120,
   "metadata": {
    "ExecuteTime": {
     "end_time": "2020-02-22T07:51:07.561115Z",
     "start_time": "2020-02-22T07:51:07.558115Z"
    }
   },
   "outputs": [],
   "source": [
    "data_loader = torch.utils.data.DataLoader(dataset=mnist_train,\n",
    "                                          batch_size=batch_size,\n",
    "                                          shuffle=True,\n",
    "                                          drop_last=True)"
   ]
  },
  {
   "cell_type": "code",
   "execution_count": 121,
   "metadata": {
    "ExecuteTime": {
     "end_time": "2020-02-22T07:51:08.314374Z",
     "start_time": "2020-02-22T07:51:08.308846Z"
    }
   },
   "outputs": [],
   "source": [
    "class CNN(nn.Module):\n",
    "    \n",
    "    def __init__(self):\n",
    "        super(CNN, self).__init__()\n",
    "        self.layer1 = nn.Sequential(\n",
    "            nn.Conv2d(1,32, kernel_size=3, stride=1, padding=1),\n",
    "            nn.ReLU(),\n",
    "            nn.MaxPool2d(kernel_size=2, stride=2)\n",
    "        )\n",
    "        \n",
    "        self.layer2 = nn.Sequential(\n",
    "            nn.Conv2d(32, 64, kernel_size=3, stride=1, padding=1),\n",
    "            nn.ReLU(),\n",
    "            nn.MaxPool2d(kernel_size=2, stride=2)\n",
    "        )\n",
    "        \n",
    "        self.fc = nn.Linear(7*7*64, 10, bias = True)\n",
    "        torch.nn.init.xavier_uniform_(self.fc.weight)\n",
    "        \n",
    "    def forward(self, x):\n",
    "        out = self.layer1(x)\n",
    "        out = self.layer2(out)\n",
    "        \n",
    "        out = out.view(out.size(0), -1)\n",
    "        out = self.fc(out)\n",
    "        return out"
   ]
  },
  {
   "cell_type": "code",
   "execution_count": 122,
   "metadata": {
    "ExecuteTime": {
     "end_time": "2020-02-22T07:51:10.150755Z",
     "start_time": "2020-02-22T07:51:10.146754Z"
    }
   },
   "outputs": [],
   "source": [
    "model = CNN().to(device)"
   ]
  },
  {
   "cell_type": "code",
   "execution_count": 123,
   "metadata": {
    "ExecuteTime": {
     "end_time": "2020-02-22T07:51:10.777751Z",
     "start_time": "2020-02-22T07:51:10.774253Z"
    }
   },
   "outputs": [
    {
     "data": {
      "text/plain": [
       "CNN(\n",
       "  (layer1): Sequential(\n",
       "    (0): Conv2d(1, 32, kernel_size=(3, 3), stride=(1, 1), padding=(1, 1))\n",
       "    (1): ReLU()\n",
       "    (2): MaxPool2d(kernel_size=2, stride=2, padding=0, dilation=1, ceil_mode=False)\n",
       "  )\n",
       "  (layer2): Sequential(\n",
       "    (0): Conv2d(32, 64, kernel_size=(3, 3), stride=(1, 1), padding=(1, 1))\n",
       "    (1): ReLU()\n",
       "    (2): MaxPool2d(kernel_size=2, stride=2, padding=0, dilation=1, ceil_mode=False)\n",
       "  )\n",
       "  (fc): Linear(in_features=3136, out_features=10, bias=True)\n",
       ")"
      ]
     },
     "execution_count": 123,
     "metadata": {},
     "output_type": "execute_result"
    }
   ],
   "source": [
    "model"
   ]
  },
  {
   "cell_type": "code",
   "execution_count": 124,
   "metadata": {
    "ExecuteTime": {
     "end_time": "2020-02-22T07:51:12.107111Z",
     "start_time": "2020-02-22T07:51:12.104608Z"
    }
   },
   "outputs": [],
   "source": [
    "criterion = nn.CrossEntropyLoss().to(device)\n",
    "optimizer = torch.optim.Adam(model.parameters(), lr = learning_rate)"
   ]
  },
  {
   "cell_type": "code",
   "execution_count": 125,
   "metadata": {
    "ExecuteTime": {
     "end_time": "2020-02-22T07:52:54.277959Z",
     "start_time": "2020-02-22T07:51:13.791957Z"
    }
   },
   "outputs": [
    {
     "name": "stdout",
     "output_type": "stream",
     "text": [
      "Learning Started. It take times...\n",
      "[Epoch :1] cost = 0.21028193831443787\n",
      "[Epoch :2] cost = 0.057190123945474625\n",
      "[Epoch :3] cost = 0.0426187627017498\n",
      "[Epoch :4] cost = 0.03435303270816803\n",
      "[Epoch :5] cost = 0.028159743174910545\n",
      "[Epoch :6] cost = 0.024411125108599663\n",
      "[Epoch :7] cost = 0.019275110214948654\n",
      "[Epoch :8] cost = 0.017298055812716484\n",
      "[Epoch :9] cost = 0.014362220652401447\n",
      "[Epoch :10] cost = 0.011574017815291882\n",
      "[Epoch :11] cost = 0.009593506343662739\n",
      "[Epoch :12] cost = 0.008400624617934227\n",
      "[Epoch :13] cost = 0.007088321726769209\n",
      "[Epoch :14] cost = 0.0072040739469230175\n",
      "[Epoch :15] cost = 0.006143331527709961\n",
      "Learning Finished\n"
     ]
    }
   ],
   "source": [
    "# training\n",
    "total_batch = len(data_loader)\n",
    "print(\"Learning Started. It take times...\")\n",
    "\n",
    "for each in range(training_epochs):\n",
    "    avg_cost = 0\n",
    "    \n",
    "    for X, Y in data_loader:\n",
    "        X = X.to(device) # cuda 에서만 가능\n",
    "        Y = Y.to(device) # cuda 에서만 가능\n",
    "        \n",
    "        optimizer.zero_grad()\n",
    "        hypothesis = model(X)\n",
    "        \n",
    "        cost = criterion(hypothesis, Y)\n",
    "        cost.backward()\n",
    "        optimizer.step()\n",
    "        \n",
    "        avg_cost += cost/total_batch\n",
    "    \n",
    "    print(\"[Epoch :{}] cost = {}\".format(each+1, avg_cost))\n",
    "    \n",
    "print(\"Learning Finished\")"
   ]
  },
  {
   "cell_type": "code",
   "execution_count": 127,
   "metadata": {
    "ExecuteTime": {
     "end_time": "2020-02-22T07:53:50.576181Z",
     "start_time": "2020-02-22T07:53:50.492684Z"
    }
   },
   "outputs": [
    {
     "name": "stdout",
     "output_type": "stream",
     "text": [
      "Accuracy :  0.983199954032898\n"
     ]
    }
   ],
   "source": [
    "with torch.no_grad():\n",
    "    X_test = mnist_test.test_data.view(len(mnist_test), 1, 28, 28).float().to(device)\n",
    "    Y_test = mnist_test.test_labels.to(device)\n",
    "    \n",
    "    prediction = model(X_test)\n",
    "    correct_prediction = torch.argmax(prediction, 1) == Y_test\n",
    "    accuracy = correct_prediction.float().mean()\n",
    "    print(\"Accuracy : \", accuracy.item())"
   ]
  },
  {
   "cell_type": "code",
   "execution_count": 133,
   "metadata": {
    "ExecuteTime": {
     "end_time": "2020-02-22T07:54:33.390663Z",
     "start_time": "2020-02-22T07:54:33.383687Z"
    }
   },
   "outputs": [],
   "source": [
    "class deep_CNN(nn.Module):\n",
    "    \n",
    "    def __init__(self):\n",
    "        super(deep_CNN, self).__init__()\n",
    "        self.layer1 = nn.Sequential(\n",
    "            nn.Conv2d(1,32, kernel_size=3, stride=1, padding=1),\n",
    "            nn.ReLU(),\n",
    "            nn.MaxPool2d(kernel_size=2, stride=2)\n",
    "        )\n",
    "        \n",
    "        self.layer2 = nn.Sequential(\n",
    "            nn.Conv2d(32, 64, kernel_size=3, stride=1, padding=1),\n",
    "            nn.ReLU(),\n",
    "            nn.MaxPool2d(kernel_size=2, stride=2)\n",
    "        )\n",
    "        \n",
    "        self.layer3 = nn.Sequential(\n",
    "            nn.Conv2d(64, 128, kernel_size=3, stride=1, padding=1),\n",
    "            nn.ReLU(),\n",
    "            nn.MaxPool2d(kernel_size=2, stride=2)\n",
    "        )\n",
    "\n",
    "            \n",
    "        self.fc1 = nn.Linear(3*3*128, 625)\n",
    "        self.relu = nn.ReLU()\n",
    "        self.fc2 = nn.Linear(625, 10, bias = True)\n",
    "        torch.nn.init.xavier_uniform_(self.fc1.weight)\n",
    "        torch.nn.init.xavier_uniform_(self.fc2.weight)\n",
    "        \n",
    "    def forward(self, x):\n",
    "        out = self.layer1(x)\n",
    "        out = self.layer2(out)\n",
    "        out = self.layer3(out)        \n",
    "        out = out.view(out.size(0), -1)\n",
    "        out = self.fc1(out)\n",
    "        out = self.relu(out)\n",
    "        out = self.fc2(out)\n",
    "        return out"
   ]
  },
  {
   "cell_type": "code",
   "execution_count": 134,
   "metadata": {
    "ExecuteTime": {
     "end_time": "2020-02-22T07:54:35.540164Z",
     "start_time": "2020-02-22T07:54:35.522158Z"
    }
   },
   "outputs": [
    {
     "name": "stdout",
     "output_type": "stream",
     "text": [
      "torch.Size([1, 10])\n"
     ]
    }
   ],
   "source": [
    "model = deep_CNN().to(device)\n",
    "\n",
    "# model test 반드시 해주기\n",
    "value = torch.Tensor(1,1,28,28).to(device)\n",
    "print(model(value).shape)"
   ]
  },
  {
   "cell_type": "code",
   "execution_count": 135,
   "metadata": {
    "ExecuteTime": {
     "end_time": "2020-02-22T07:54:37.039454Z",
     "start_time": "2020-02-22T07:54:37.036453Z"
    }
   },
   "outputs": [],
   "source": [
    "criterion = nn.CrossEntropyLoss().to(device)\n",
    "optimizer = torch.optim.Adam(model.parameters(), lr = learning_rate)"
   ]
  },
  {
   "cell_type": "code",
   "execution_count": 136,
   "metadata": {
    "ExecuteTime": {
     "end_time": "2020-02-22T07:56:38.438663Z",
     "start_time": "2020-02-22T07:54:37.921665Z"
    }
   },
   "outputs": [
    {
     "name": "stdout",
     "output_type": "stream",
     "text": [
      "Learning Started. It take times...\n",
      "[Epoch :1] cost = 0.16870492696762085\n",
      "[Epoch :2] cost = 0.043228283524513245\n",
      "[Epoch :3] cost = 0.029841765761375427\n",
      "[Epoch :4] cost = 0.023701490834355354\n",
      "[Epoch :5] cost = 0.01934756338596344\n",
      "[Epoch :6] cost = 0.01468753907829523\n",
      "[Epoch :7] cost = 0.01334412582218647\n",
      "[Epoch :8] cost = 0.009880347177386284\n",
      "[Epoch :9] cost = 0.009876346215605736\n",
      "[Epoch :10] cost = 0.008591513149440289\n",
      "[Epoch :11] cost = 0.00855458714067936\n",
      "[Epoch :12] cost = 0.007344287820160389\n",
      "[Epoch :13] cost = 0.007414448074996471\n",
      "[Epoch :14] cost = 0.004786539822816849\n",
      "[Epoch :15] cost = 0.007280220743268728\n",
      "Learning Finished\n"
     ]
    }
   ],
   "source": [
    "# training\n",
    "total_batch = len(data_loader)\n",
    "print(\"Learning Started. It take times...\")\n",
    "\n",
    "for each in range(training_epochs):\n",
    "    avg_cost = 0\n",
    "    \n",
    "    for X, Y in data_loader:\n",
    "        X = X.to(device) # cuda 에서만 가능\n",
    "        Y = Y.to(device) # cuda 에서만 가능\n",
    "        \n",
    "        optimizer.zero_grad()\n",
    "        hypothesis = model(X)\n",
    "        \n",
    "        cost = criterion(hypothesis, Y)\n",
    "        cost.backward()\n",
    "        optimizer.step()\n",
    "        \n",
    "        avg_cost += cost/total_batch\n",
    "    \n",
    "    print(\"[Epoch :{}] cost = {}\".format(each+1, avg_cost))\n",
    "    \n",
    "print(\"Learning Finished\")"
   ]
  },
  {
   "cell_type": "code",
   "execution_count": 137,
   "metadata": {
    "ExecuteTime": {
     "end_time": "2020-02-22T07:56:42.052886Z",
     "start_time": "2020-02-22T07:56:41.963385Z"
    }
   },
   "outputs": [
    {
     "name": "stdout",
     "output_type": "stream",
     "text": [
      "Accuracy :  0.9871999621391296\n"
     ]
    }
   ],
   "source": [
    "with torch.no_grad():\n",
    "    X_test = mnist_test.test_data.view(len(mnist_test), 1, 28, 28).float().to(device)\n",
    "    Y_test = mnist_test.test_labels.to(device)\n",
    "    \n",
    "    prediction = model(X_test)\n",
    "    correct_prediction = torch.argmax(prediction, 1) == Y_test\n",
    "    accuracy = correct_prediction.float().mean()\n",
    "    print(\"Accuracy : \", accuracy.item())"
   ]
  },
  {
   "cell_type": "markdown",
   "metadata": {},
   "source": [
    "### 결론\n",
    "\n",
    "> Layer를 깊게 쌓는것도 중요하지만, 높은 정확도를 위해 효율적으로 model을 만드는게 더 중요하다. 따라서 연구가 진행된 다양한 구조를 익혀가는게 중요하다."
   ]
  }
 ],
 "metadata": {
  "hide_input": false,
  "kernelspec": {
   "display_name": "Python 3",
   "language": "python",
   "name": "python3"
  },
  "language_info": {
   "codemirror_mode": {
    "name": "ipython",
    "version": 3
   },
   "file_extension": ".py",
   "mimetype": "text/x-python",
   "name": "python",
   "nbconvert_exporter": "python",
   "pygments_lexer": "ipython3",
   "version": "3.7.1"
  },
  "toc": {
   "base_numbering": 1,
   "nav_menu": {},
   "number_sections": true,
   "sideBar": true,
   "skip_h1_title": false,
   "title_cell": "Table of Contents",
   "title_sidebar": "Contents",
   "toc_cell": false,
   "toc_position": {},
   "toc_section_display": true,
   "toc_window_display": false
  }
 },
 "nbformat": 4,
 "nbformat_minor": 2
}
